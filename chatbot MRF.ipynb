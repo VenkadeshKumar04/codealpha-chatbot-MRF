{
 "cells": [
  {
   "cell_type": "code",
   "execution_count": 1,
   "id": "b0392a38-9b17-441d-83e4-2ce47aef6744",
   "metadata": {},
   "outputs": [
    {
     "name": "stdout",
     "output_type": "stream",
     "text": [
      "Requirement already satisfied: nltk in c:\\users\\ranja\\anaconda3\\lib\\site-packages (3.9.1)\n",
      "Requirement already satisfied: click in c:\\users\\ranja\\anaconda3\\lib\\site-packages (from nltk) (8.1.7)\n",
      "Requirement already satisfied: joblib in c:\\users\\ranja\\anaconda3\\lib\\site-packages (from nltk) (1.4.2)\n",
      "Requirement already satisfied: regex>=2021.8.3 in c:\\users\\ranja\\anaconda3\\lib\\site-packages (from nltk) (2024.9.11)\n",
      "Requirement already satisfied: tqdm in c:\\users\\ranja\\anaconda3\\lib\\site-packages (from nltk) (4.66.5)\n",
      "Requirement already satisfied: colorama in c:\\users\\ranja\\anaconda3\\lib\\site-packages (from click->nltk) (0.4.6)\n",
      "Note: you may need to restart the kernel to use updated packages.\n",
      "Requirement already satisfied: scikit-learn in c:\\users\\ranja\\anaconda3\\lib\\site-packages (1.5.1)\n",
      "Requirement already satisfied: numpy>=1.19.5 in c:\\users\\ranja\\anaconda3\\lib\\site-packages (from scikit-learn) (1.26.4)\n",
      "Requirement already satisfied: scipy>=1.6.0 in c:\\users\\ranja\\anaconda3\\lib\\site-packages (from scikit-learn) (1.13.1)\n",
      "Requirement already satisfied: joblib>=1.2.0 in c:\\users\\ranja\\anaconda3\\lib\\site-packages (from scikit-learn) (1.4.2)\n",
      "Requirement already satisfied: threadpoolctl>=3.1.0 in c:\\users\\ranja\\anaconda3\\lib\\site-packages (from scikit-learn) (3.5.0)\n",
      "Note: you may need to restart the kernel to use updated packages.\n",
      "Requirement already satisfied: numpy in c:\\users\\ranja\\anaconda3\\lib\\site-packages (1.26.4)\n",
      "Note: you may need to restart the kernel to use updated packages.\n"
     ]
    },
    {
     "name": "stderr",
     "output_type": "stream",
     "text": [
      "[nltk_data] Downloading package wordnet to\n",
      "[nltk_data]     C:\\Users\\ranja\\AppData\\Roaming\\nltk_data...\n",
      "[nltk_data]   Package wordnet is already up-to-date!\n",
      "[nltk_data] Downloading package stopwords to\n",
      "[nltk_data]     C:\\Users\\ranja\\AppData\\Roaming\\nltk_data...\n",
      "[nltk_data]   Package stopwords is already up-to-date!\n"
     ]
    },
    {
     "data": {
      "text/plain": [
       "True"
      ]
     },
     "execution_count": 1,
     "metadata": {},
     "output_type": "execute_result"
    }
   ],
   "source": [
    "%pip install nltk\n",
    "%pip install scikit-learn\n",
    "%pip install numpy\n",
    "import nltk\n",
    "nltk.download('wordnet')\n",
    "nltk.download('stopwords')\n",
    "\n"
   ]
  },
  {
   "cell_type": "code",
   "execution_count": null,
   "id": "b933df36-cfaf-4975-8845-6ca41960cadd",
   "metadata": {},
   "outputs": [
    {
     "name": "stderr",
     "output_type": "stream",
     "text": [
      "[nltk_data] Downloading package wordnet to\n",
      "[nltk_data]     C:\\Users\\ranja\\AppData\\Roaming\\nltk_data...\n",
      "[nltk_data]   Package wordnet is already up-to-date!\n",
      "[nltk_data] Downloading package stopwords to\n",
      "[nltk_data]     C:\\Users\\ranja\\AppData\\Roaming\\nltk_data...\n",
      "[nltk_data]   Package stopwords is already up-to-date!\n"
     ]
    }
   ],
   "source": [
    "import nltk\n",
    "import tkinter as tk\n",
    "from tkinter import scrolledtext\n",
    "from sklearn.feature_extraction.text import TfidfVectorizer\n",
    "from sklearn.metrics.pairwise import cosine_similarity\n",
    "import numpy as np\n",
    "\n",
    "# Download NLTK data\n",
    "nltk.download('wordnet')\n",
    "nltk.download('stopwords')\n",
    "\n",
    "from nltk.corpus import stopwords\n",
    "from nltk.stem import WordNetLemmatizer\n",
    "from nltk.tokenize import TreebankWordTokenizer\n",
    "\n",
    "tokenizer = TreebankWordTokenizer()\n",
    "\n",
    "def preprocess(text):\n",
    "    lemmatizer = WordNetLemmatizer()\n",
    "    stop_words = set(stopwords.words(\"english\"))\n",
    "    tokens = tokenizer.tokenize(text.lower())\n",
    "    filtered = [lemmatizer.lemmatize(w) for w in tokens if w.isalnum() and w not in stop_words]\n",
    "    return \" \".join(filtered)\n",
    "\n",
    "# MRF Bat FAQs\n",
    "faq_data = {\n",
    "    \"What is the full form of MRF in cricket bat?\": \"MRF stands for Madras Rubber Factory. It's a popular Indian brand known for sports equipment.\",\n",
    "    \"Are MRF bats made by MRF company?\": \"No, MRF bats are manufactured by companies like Sareen Sports (SS), and MRF does the branding.\",\n",
    "    \"Which players use MRF bats?\": \"Famous cricketers like Sachin Tendulkar, Virat Kohli, and AB de Villiers have endorsed MRF bats.\",\n",
    "    \"What wood is used in MRF bats?\": \"MRF bats are typically made from high-quality English or Kashmir willow.\",\n",
    "    \"What is the price of an MRF bat?\": \"MRF bat prices vary based on model and willow quality, ranging from ₹2,000 to ₹25,000 or more.\",\n",
    "    \"Are MRF bats good for professional cricket?\": \"Yes, MRF bats are used in international matches and are highly regarded by professionals.\",\n",
    "    \"Can I use MRF bats for tennis ball cricket?\": \"While possible, it's better to use lighter bats specifically designed for tennis ball cricket.\",\n",
    "    \"How to maintain an MRF bat?\": \"Apply linseed oil, use a toe guard, and knock-in the bat before heavy use to prolong its life.\",\n",
    "    \"Where can I buy an MRF cricket bat?\": \"MRF bats are available in sports stores and online platforms like Amazon and Flipkart.\",\n",
    "    \"Do MRF bats come with a warranty?\": \"Some premium models may include a limited warranty. Check with the retailer or manufacturer.\",\n",
    "    \"Is MRF bat good for beginners?\": \"Yes, MRF offers entry-level models that are suitable for beginners and intermediate players.\",\n",
    "    \"How to identify a genuine MRF bat?\": \"Look for holograms, official MRP tags, and authorized dealer stamps to ensure authenticity.\",\n",
    "    \"Is Virat Kohli's bat custom made?\": \"Yes, top players like Kohli use custom bats tailored to their playing style and preferences.\"\n",
    "}\n",
    "\n",
    "# Preprocess questions\n",
    "questions = list(faq_data.keys())\n",
    "answers = list(faq_data.values())\n",
    "preprocessed_questions = [preprocess(q) for q in questions]\n",
    "\n",
    "# Vectorize the questions\n",
    "vectorizer = TfidfVectorizer()\n",
    "X = vectorizer.fit_transform(preprocessed_questions)\n",
    "\n",
    "# Response function\n",
    "def get_response(user_input):\n",
    "    user_input_processed = preprocess(user_input)\n",
    "    user_vec = vectorizer.transform([user_input_processed])\n",
    "    similarity = cosine_similarity(user_vec, X)\n",
    "    idx = np.argmax(similarity)\n",
    "    if similarity[0][idx] > 0.3:\n",
    "        return answers[idx]\n",
    "    else:\n",
    "        return \"Sorry, I couldn't understand that. Please ask something else about MRF cricket bats.\"\n",
    "\n",
    "# GUI Functions\n",
    "def send():\n",
    "    user_input = entry.get()\n",
    "    if user_input.strip() == \"\":\n",
    "        return\n",
    "    chat_window.insert(tk.END, \"You: \" + user_input + \"\\n\")\n",
    "    entry.delete(0, tk.END)\n",
    "    response = get_response(user_input)\n",
    "    chat_window.insert(tk.END, \"Bot: \" + response + \"\\n\")\n",
    "\n",
    "# GUI Setup\n",
    "window = tk.Tk()\n",
    "window.title(\"MRF Bat Chatbot\")\n",
    "window.geometry(\"500x500\")\n",
    "\n",
    "chat_window = scrolledtext.ScrolledText(window, wrap=tk.WORD, font=(\"Arial\", 12))\n",
    "chat_window.pack(padx=10, pady=10, fill=tk.BOTH, expand=True)\n",
    "\n",
    "entry_frame = tk.Frame(window)\n",
    "entry_frame.pack(fill=tk.X, padx=10, pady=10)\n",
    "\n",
    "entry = tk.Entry(entry_frame, font=(\"Arial\", 12))\n",
    "entry.pack(side=tk.LEFT, fill=tk.X, expand=True, padx=(0, 10))\n",
    "\n",
    "send_button = tk.Button(entry_frame, text=\"Send\", font=(\"Arial\", 12), command=send)\n",
    "send_button.pack(side=tk.RIGHT)\n",
    "\n",
    "window.mainloop()\n"
   ]
  },
  {
   "cell_type": "code",
   "execution_count": null,
   "id": "913d8d34-1f16-4daf-8384-1b0eac316c7e",
   "metadata": {},
   "outputs": [],
   "source": []
  }
 ],
 "metadata": {
  "kernelspec": {
   "display_name": "Python [conda env:base] *",
   "language": "python",
   "name": "conda-base-py"
  },
  "language_info": {
   "codemirror_mode": {
    "name": "ipython",
    "version": 3
   },
   "file_extension": ".py",
   "mimetype": "text/x-python",
   "name": "python",
   "nbconvert_exporter": "python",
   "pygments_lexer": "ipython3",
   "version": "3.12.7"
  }
 },
 "nbformat": 4,
 "nbformat_minor": 5
}
